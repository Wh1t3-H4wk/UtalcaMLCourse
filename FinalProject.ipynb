{
  "nbformat": 4,
  "nbformat_minor": 0,
  "metadata": {
    "colab": {
      "name": "FinalProject.ipynb",
      "provenance": [],
      "collapsed_sections": [],
      "authorship_tag": "ABX9TyN1L8i3r3zK4+Gww+pMMwMA",
      "include_colab_link": true
    },
    "kernelspec": {
      "name": "python3",
      "display_name": "Python 3"
    },
    "language_info": {
      "name": "python"
    }
  },
  "cells": [
    {
      "cell_type": "markdown",
      "metadata": {
        "id": "view-in-github",
        "colab_type": "text"
      },
      "source": [
        "<a href=\"https://colab.research.google.com/github/Wh1t3-H4wk/UtalcaMLCourse/blob/main/FinalProject.ipynb\" target=\"_parent\"><img src=\"https://colab.research.google.com/assets/colab-badge.svg\" alt=\"Open In Colab\"/></a>"
      ]
    },
    {
      "cell_type": "code",
      "execution_count": 1,
      "metadata": {
        "id": "O8xjPajv3lxv"
      },
      "outputs": [],
      "source": [
        "from sklearn.model_selection import train_test_split\n",
        "from sklearn.metrics import mean_absolute_error\n",
        "import matplotlib.pyplot as plt\n",
        "from datetime import datetime\n",
        "from fbprophet import Prophet\n",
        "import pandas as pd\n",
        "import numpy as np\n",
        "import requests\n",
        "import csv"
      ]
    },
    {
      "cell_type": "code",
      "source": [
        "data_url = \"https://sinca.mma.gob.cl/cgi-bin/APUB-MMA/apub.tsindico2.cgi?outtype=xcl&macro=./RVII/709/Cal/PM25//PM25.horario.horario.ic&from=120707&to=211130&path=/usr/airviro/data/CONAMA/&lang=esp&rsrc=&macropath=\"\n",
        "data = requests.get(data_url)\n",
        "lines = data.text.splitlines()\n",
        "reader = csv.reader(lines, delimiter=';')\n",
        "df = pd.DataFrame(reader, index=None)"
      ],
      "metadata": {
        "id": "5G0i7NnY7QWg"
      },
      "execution_count": 2,
      "outputs": []
    },
    {
      "cell_type": "code",
      "source": [
        "df.replace(r'^\\s*$', np.nan, regex=True, inplace=True)"
      ],
      "metadata": {
        "id": "4-EHQL0FBbob"
      },
      "execution_count": 3,
      "outputs": []
    },
    {
      "cell_type": "code",
      "source": [
        "df.info()"
      ],
      "metadata": {
        "colab": {
          "base_uri": "https://localhost:8080/"
        },
        "id": "Miqv1gr4D2Pg",
        "outputId": "3db0af22-4833-43aa-9c40-bfe3e569607d"
      },
      "execution_count": 4,
      "outputs": [
        {
          "output_type": "stream",
          "name": "stdout",
          "text": [
            "<class 'pandas.core.frame.DataFrame'>\n",
            "RangeIndex: 82416 entries, 0 to 82415\n",
            "Data columns (total 6 columns):\n",
            " #   Column  Non-Null Count  Dtype  \n",
            "---  ------  --------------  -----  \n",
            " 0   0       82416 non-null  object \n",
            " 1   1       82416 non-null  object \n",
            " 2   2       57744 non-null  object \n",
            " 3   3       16485 non-null  object \n",
            " 4   4       2744 non-null   object \n",
            " 5   5       0 non-null      float64\n",
            "dtypes: float64(1), object(5)\n",
            "memory usage: 3.8+ MB\n"
          ]
        }
      ]
    },
    {
      "cell_type": "code",
      "source": [
        "#Se elimina la quinta columna dado que no tiene datos\n",
        "df = df[[0,1,2,3,4]].copy()\n",
        "df.info()"
      ],
      "metadata": {
        "colab": {
          "base_uri": "https://localhost:8080/"
        },
        "id": "1hvifdXbEAMj",
        "outputId": "54b10212-9f46-4fa7-ac62-da39270002b5"
      },
      "execution_count": 5,
      "outputs": [
        {
          "output_type": "stream",
          "name": "stdout",
          "text": [
            "<class 'pandas.core.frame.DataFrame'>\n",
            "RangeIndex: 82416 entries, 0 to 82415\n",
            "Data columns (total 5 columns):\n",
            " #   Column  Non-Null Count  Dtype \n",
            "---  ------  --------------  ----- \n",
            " 0   0       82416 non-null  object\n",
            " 1   1       82416 non-null  object\n",
            " 2   2       57744 non-null  object\n",
            " 3   3       16485 non-null  object\n",
            " 4   4       2744 non-null   object\n",
            "dtypes: object(5)\n",
            "memory usage: 3.1+ MB\n"
          ]
        }
      ]
    },
    {
      "cell_type": "code",
      "source": [
        "df = df.iloc[1: , :]\n",
        "df"
      ],
      "metadata": {
        "colab": {
          "base_uri": "https://localhost:8080/",
          "height": 419
        },
        "id": "dKf4Pm6YEQEy",
        "outputId": "491ce799-641b-4868-e36d-7a40317a71e8"
      },
      "execution_count": 6,
      "outputs": [
        {
          "output_type": "execute_result",
          "data": {
            "text/html": [
              "<div>\n",
              "<style scoped>\n",
              "    .dataframe tbody tr th:only-of-type {\n",
              "        vertical-align: middle;\n",
              "    }\n",
              "\n",
              "    .dataframe tbody tr th {\n",
              "        vertical-align: top;\n",
              "    }\n",
              "\n",
              "    .dataframe thead th {\n",
              "        text-align: right;\n",
              "    }\n",
              "</style>\n",
              "<table border=\"1\" class=\"dataframe\">\n",
              "  <thead>\n",
              "    <tr style=\"text-align: right;\">\n",
              "      <th></th>\n",
              "      <th>0</th>\n",
              "      <th>1</th>\n",
              "      <th>2</th>\n",
              "      <th>3</th>\n",
              "      <th>4</th>\n",
              "    </tr>\n",
              "  </thead>\n",
              "  <tbody>\n",
              "    <tr>\n",
              "      <th>1</th>\n",
              "      <td>120707</td>\n",
              "      <td>0100</td>\n",
              "      <td>NaN</td>\n",
              "      <td>NaN</td>\n",
              "      <td>NaN</td>\n",
              "    </tr>\n",
              "    <tr>\n",
              "      <th>2</th>\n",
              "      <td>120707</td>\n",
              "      <td>0200</td>\n",
              "      <td>NaN</td>\n",
              "      <td>NaN</td>\n",
              "      <td>NaN</td>\n",
              "    </tr>\n",
              "    <tr>\n",
              "      <th>3</th>\n",
              "      <td>120707</td>\n",
              "      <td>0300</td>\n",
              "      <td>NaN</td>\n",
              "      <td>NaN</td>\n",
              "      <td>NaN</td>\n",
              "    </tr>\n",
              "    <tr>\n",
              "      <th>4</th>\n",
              "      <td>120707</td>\n",
              "      <td>0400</td>\n",
              "      <td>NaN</td>\n",
              "      <td>NaN</td>\n",
              "      <td>NaN</td>\n",
              "    </tr>\n",
              "    <tr>\n",
              "      <th>5</th>\n",
              "      <td>120707</td>\n",
              "      <td>0500</td>\n",
              "      <td>NaN</td>\n",
              "      <td>NaN</td>\n",
              "      <td>NaN</td>\n",
              "    </tr>\n",
              "    <tr>\n",
              "      <th>...</th>\n",
              "      <td>...</td>\n",
              "      <td>...</td>\n",
              "      <td>...</td>\n",
              "      <td>...</td>\n",
              "      <td>...</td>\n",
              "    </tr>\n",
              "    <tr>\n",
              "      <th>82411</th>\n",
              "      <td>211130</td>\n",
              "      <td>1900</td>\n",
              "      <td>NaN</td>\n",
              "      <td>3</td>\n",
              "      <td>NaN</td>\n",
              "    </tr>\n",
              "    <tr>\n",
              "      <th>82412</th>\n",
              "      <td>211130</td>\n",
              "      <td>2000</td>\n",
              "      <td>NaN</td>\n",
              "      <td>7</td>\n",
              "      <td>NaN</td>\n",
              "    </tr>\n",
              "    <tr>\n",
              "      <th>82413</th>\n",
              "      <td>211130</td>\n",
              "      <td>2100</td>\n",
              "      <td>NaN</td>\n",
              "      <td>7</td>\n",
              "      <td>NaN</td>\n",
              "    </tr>\n",
              "    <tr>\n",
              "      <th>82414</th>\n",
              "      <td>211130</td>\n",
              "      <td>2200</td>\n",
              "      <td>NaN</td>\n",
              "      <td>11</td>\n",
              "      <td>NaN</td>\n",
              "    </tr>\n",
              "    <tr>\n",
              "      <th>82415</th>\n",
              "      <td>211130</td>\n",
              "      <td>2300</td>\n",
              "      <td>NaN</td>\n",
              "      <td>7</td>\n",
              "      <td>NaN</td>\n",
              "    </tr>\n",
              "  </tbody>\n",
              "</table>\n",
              "<p>82415 rows × 5 columns</p>\n",
              "</div>"
            ],
            "text/plain": [
              "            0     1    2    3    4\n",
              "1      120707  0100  NaN  NaN  NaN\n",
              "2      120707  0200  NaN  NaN  NaN\n",
              "3      120707  0300  NaN  NaN  NaN\n",
              "4      120707  0400  NaN  NaN  NaN\n",
              "5      120707  0500  NaN  NaN  NaN\n",
              "...       ...   ...  ...  ...  ...\n",
              "82411  211130  1900  NaN    3  NaN\n",
              "82412  211130  2000  NaN    7  NaN\n",
              "82413  211130  2100  NaN    7  NaN\n",
              "82414  211130  2200  NaN   11  NaN\n",
              "82415  211130  2300  NaN    7  NaN\n",
              "\n",
              "[82415 rows x 5 columns]"
            ]
          },
          "metadata": {},
          "execution_count": 6
        }
      ]
    },
    {
      "cell_type": "code",
      "source": [
        "df[2]=df[2].str.replace(',','.')\n",
        "df[3]=df[3].str.replace(',','.')\n",
        "df[4]=df[4].str.replace(',','.')\n",
        "\n",
        "df[2] = pd.to_numeric(df[2])\n",
        "df[3] = pd.to_numeric(df[3])\n",
        "df[4] = pd.to_numeric(df[4])\n",
        "\n",
        "df.replace(np.nan, 0, regex=True, inplace=True)"
      ],
      "metadata": {
        "id": "K5YgRFuoOIm6"
      },
      "execution_count": 7,
      "outputs": []
    },
    {
      "cell_type": "code",
      "source": [
        "trimmed_df = pd.DataFrame()\n",
        "trimmed_df[0] = df[0] + df[1]\n",
        "trimmed_df[1] = df[2] + df[3] + df[4]\n",
        "trimmed_df.columns = ['ds','y']"
      ],
      "metadata": {
        "id": "067mQuQGK8CM"
      },
      "execution_count": 8,
      "outputs": []
    },
    {
      "cell_type": "code",
      "source": [
        "trimmed_df.replace(0, np.nan, regex=True, inplace=True)\n",
        "trimmed_df.info()"
      ],
      "metadata": {
        "id": "RM7Ej4UVOWbF",
        "colab": {
          "base_uri": "https://localhost:8080/"
        },
        "outputId": "e8db3760-1c58-4623-9191-0d7746cef40b"
      },
      "execution_count": 9,
      "outputs": [
        {
          "output_type": "stream",
          "name": "stdout",
          "text": [
            "<class 'pandas.core.frame.DataFrame'>\n",
            "RangeIndex: 82415 entries, 1 to 82415\n",
            "Data columns (total 2 columns):\n",
            " #   Column  Non-Null Count  Dtype  \n",
            "---  ------  --------------  -----  \n",
            " 0   ds      82415 non-null  object \n",
            " 1   y       76965 non-null  float64\n",
            "dtypes: float64(1), object(1)\n",
            "memory usage: 1.3+ MB\n"
          ]
        }
      ]
    },
    {
      "cell_type": "code",
      "source": [
        "trimmed_df.dropna(inplace=True)\n",
        "trimmed_df.info()"
      ],
      "metadata": {
        "id": "lYxnQNbySDBb",
        "colab": {
          "base_uri": "https://localhost:8080/"
        },
        "outputId": "9ea15f65-4c89-46d0-8fc2-b7662e72dc9e"
      },
      "execution_count": 10,
      "outputs": [
        {
          "output_type": "stream",
          "name": "stdout",
          "text": [
            "<class 'pandas.core.frame.DataFrame'>\n",
            "Int64Index: 76965 entries, 16 to 82415\n",
            "Data columns (total 2 columns):\n",
            " #   Column  Non-Null Count  Dtype  \n",
            "---  ------  --------------  -----  \n",
            " 0   ds      76965 non-null  object \n",
            " 1   y       76965 non-null  float64\n",
            "dtypes: float64(1), object(1)\n",
            "memory usage: 1.8+ MB\n"
          ]
        }
      ]
    },
    {
      "cell_type": "code",
      "source": [
        "trimmed_df[\"ds\"] = pd.to_datetime(trimmed_df[\"ds\"], format='%y%m%d%H%M', errors='ignore')\n",
        "trimmed_df"
      ],
      "metadata": {
        "colab": {
          "base_uri": "https://localhost:8080/",
          "height": 419
        },
        "id": "zmma9sA_Lfa4",
        "outputId": "370a5622-fad5-4990-a009-983f67bdbf96"
      },
      "execution_count": 11,
      "outputs": [
        {
          "output_type": "execute_result",
          "data": {
            "text/html": [
              "<div>\n",
              "<style scoped>\n",
              "    .dataframe tbody tr th:only-of-type {\n",
              "        vertical-align: middle;\n",
              "    }\n",
              "\n",
              "    .dataframe tbody tr th {\n",
              "        vertical-align: top;\n",
              "    }\n",
              "\n",
              "    .dataframe thead th {\n",
              "        text-align: right;\n",
              "    }\n",
              "</style>\n",
              "<table border=\"1\" class=\"dataframe\">\n",
              "  <thead>\n",
              "    <tr style=\"text-align: right;\">\n",
              "      <th></th>\n",
              "      <th>ds</th>\n",
              "      <th>y</th>\n",
              "    </tr>\n",
              "  </thead>\n",
              "  <tbody>\n",
              "    <tr>\n",
              "      <th>16</th>\n",
              "      <td>2012-07-07 16:00:00</td>\n",
              "      <td>33.7100</td>\n",
              "    </tr>\n",
              "    <tr>\n",
              "      <th>17</th>\n",
              "      <td>2012-07-07 17:00:00</td>\n",
              "      <td>53.9500</td>\n",
              "    </tr>\n",
              "    <tr>\n",
              "      <th>18</th>\n",
              "      <td>2012-07-07 18:00:00</td>\n",
              "      <td>96.3999</td>\n",
              "    </tr>\n",
              "    <tr>\n",
              "      <th>19</th>\n",
              "      <td>2012-07-07 19:00:00</td>\n",
              "      <td>67.4298</td>\n",
              "    </tr>\n",
              "    <tr>\n",
              "      <th>20</th>\n",
              "      <td>2012-07-07 20:00:00</td>\n",
              "      <td>163.2000</td>\n",
              "    </tr>\n",
              "    <tr>\n",
              "      <th>...</th>\n",
              "      <td>...</td>\n",
              "      <td>...</td>\n",
              "    </tr>\n",
              "    <tr>\n",
              "      <th>82411</th>\n",
              "      <td>2021-11-30 19:00:00</td>\n",
              "      <td>3.0000</td>\n",
              "    </tr>\n",
              "    <tr>\n",
              "      <th>82412</th>\n",
              "      <td>2021-11-30 20:00:00</td>\n",
              "      <td>7.0000</td>\n",
              "    </tr>\n",
              "    <tr>\n",
              "      <th>82413</th>\n",
              "      <td>2021-11-30 21:00:00</td>\n",
              "      <td>7.0000</td>\n",
              "    </tr>\n",
              "    <tr>\n",
              "      <th>82414</th>\n",
              "      <td>2021-11-30 22:00:00</td>\n",
              "      <td>11.0000</td>\n",
              "    </tr>\n",
              "    <tr>\n",
              "      <th>82415</th>\n",
              "      <td>2021-11-30 23:00:00</td>\n",
              "      <td>7.0000</td>\n",
              "    </tr>\n",
              "  </tbody>\n",
              "</table>\n",
              "<p>76965 rows × 2 columns</p>\n",
              "</div>"
            ],
            "text/plain": [
              "                       ds         y\n",
              "16    2012-07-07 16:00:00   33.7100\n",
              "17    2012-07-07 17:00:00   53.9500\n",
              "18    2012-07-07 18:00:00   96.3999\n",
              "19    2012-07-07 19:00:00   67.4298\n",
              "20    2012-07-07 20:00:00  163.2000\n",
              "...                   ...       ...\n",
              "82411 2021-11-30 19:00:00    3.0000\n",
              "82412 2021-11-30 20:00:00    7.0000\n",
              "82413 2021-11-30 21:00:00    7.0000\n",
              "82414 2021-11-30 22:00:00   11.0000\n",
              "82415 2021-11-30 23:00:00    7.0000\n",
              "\n",
              "[76965 rows x 2 columns]"
            ]
          },
          "metadata": {},
          "execution_count": 11
        }
      ]
    },
    {
      "cell_type": "code",
      "source": [
        "# plotting the line 2 points\n",
        "plt.plot(trimmed_df[\"ds\"], trimmed_df[\"y\"])\n",
        " \n",
        "# naming the x axis\n",
        "plt.xlabel('ds')\n",
        "# naming the y axis\n",
        "plt.ylabel('y')\n",
        "\n",
        "# function to show the plot\n",
        "plt.show()"
      ],
      "metadata": {
        "colab": {
          "base_uri": "https://localhost:8080/",
          "height": 279
        },
        "id": "5s7ivaw3Q14n",
        "outputId": "4c8123f6-82d6-4f63-9365-58d072836fc8"
      },
      "execution_count": 12,
      "outputs": [
        {
          "output_type": "display_data",
          "data": {
            "image/png": "[encoded data removed]",
            "text/plain": [
              "<Figure size 432x288 with 1 Axes>"
            ]
          },
          "metadata": {
            "needs_background": "light"
          }
        }
      ]
    },
    {
      "cell_type": "code",
      "source": [
        "trimmed_df = trimmed_df.sort_values(\"ds\")\n",
        "train, test = train_test_split(trimmed_df, test_size=0.5, shuffle=False)"
      ],
      "metadata": {
        "id": "C9J6-Df7dAoJ"
      },
      "execution_count": 13,
      "outputs": []
    },
    {
      "cell_type": "code",
      "source": [
        "m = Prophet()\n",
        "m.fit(train)"
      ],
      "metadata": {
        "colab": {
          "base_uri": "https://localhost:8080/"
        },
        "id": "AvVyK5vwYr2v",
        "outputId": "c82fc56a-35d0-42d2-eaa9-b3c296db7c96"
      },
      "execution_count": 14,
      "outputs": [
        {
          "output_type": "execute_result",
          "data": {
            "text/plain": [
              "<fbprophet.forecaster.Prophet at 0x7fdafba97790>"
            ]
          },
          "metadata": {},
          "execution_count": 14
        }
      ]
    },
    {
      "cell_type": "code",
      "source": [
        "future = m.make_future_dataframe(periods=1095)\n",
        "forecast = m.predict(future)"
      ],
      "metadata": {
        "id": "B8bTwxYRb6cG"
      },
      "execution_count": 15,
      "outputs": []
    },
    {
      "cell_type": "code",
      "source": [
        "m.plot(forecast)"
      ],
      "metadata": {
        "colab": {
          "base_uri": "https://localhost:8080/",
          "height": 865
        },
        "id": "-oW4Q2z7cSc8",
        "outputId": "581d92e5-f4ec-421f-cb00-4a6a38e7ddc3"
      },
      "execution_count": 16,
      "outputs": [
        {
          "output_type": "execute_result",
          "data": {
            "image/png": "[encoded data removed]",
            "text/plain": [
              "<Figure size 720x432 with 1 Axes>"
            ]
          },
          "metadata": {},
          "execution_count": 16
        },
        {
          "output_type": "display_data",
          "data": {
            "image/png": "[encoded data removed]",
            "text/plain": [
              "<Figure size 720x432 with 1 Axes>"
            ]
          },
          "metadata": {}
        }
      ]
    },
    {
      "cell_type": "code",
      "source": [
        "y_true = test['y'].values\n",
        "y_pred = forecast['yhat'][-23090:].values\n",
        "mae = mean_absolute_error(y_true, y_pred)\n",
        "print('MAE: %.3f' % mae)"
      ],
      "metadata": {
        "colab": {
          "base_uri": "https://localhost:8080/"
        },
        "id": "ezNo8TZzjNhg",
        "outputId": "ad98bed6-cfbc-4b28-a779-46bec974bbea"
      },
      "execution_count": 19,
      "outputs": [
        {
          "output_type": "stream",
          "name": "stdout",
          "text": [
            "MAE: 31.742\n"
          ]
        }
      ]
    },
    {
      "cell_type": "code",
      "source": [
        "# plot expected vs actual\n",
        "plt.plot(y_true, label='Actual')\n",
        "plt.plot(y_pred, label='Predicted')\n",
        "plt.legend()\n",
        "plt.show()"
      ],
      "metadata": {
        "colab": {
          "base_uri": "https://localhost:8080/",
          "height": 265
        },
        "id": "ShWp8w9fkGn4",
        "outputId": "bd26b3af-b842-4acf-bcdb-438fb0d7abb0"
      },
      "execution_count": 20,
      "outputs": [
        {
          "output_type": "display_data",
          "data": {
            "image/png": "[encoded data removed]",
            "text/plain": [
              "<Figure size 432x288 with 1 Axes>"
            ]
          },
          "metadata": {
            "needs_background": "light"
          }
        }
      ]
    }
  ]
}