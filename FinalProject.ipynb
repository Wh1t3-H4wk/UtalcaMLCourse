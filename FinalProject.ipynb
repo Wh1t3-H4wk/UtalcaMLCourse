{
  "nbformat": 4,
  "nbformat_minor": 0,
  "metadata": {
    "colab": {
      "name": "FinalProject.ipynb",
      "provenance": [],
      "collapsed_sections": [],
      "authorship_tag": "ABX9TyPgR2rdaWSJP8GO8ECqFte0",
      "include_colab_link": true
    },
    "kernelspec": {
      "name": "python3",
      "display_name": "Python 3"
    },
    "language_info": {
      "name": "python"
    }
  },
  "cells": [
    {
      "cell_type": "markdown",
      "metadata": {
        "id": "view-in-github",
        "colab_type": "text"
      },
      "source": [
        "<a href=\"https://colab.research.google.com/github/Wh1t3-H4wk/UtalcaMLCourse/blob/main/FinalProject.ipynb\" target=\"_parent\"><img src=\"https://colab.research.google.com/assets/colab-badge.svg\" alt=\"Open In Colab\"/></a>"
      ]
    },
    {
      "cell_type": "code",
      "execution_count": 1,
      "metadata": {
        "id": "O8xjPajv3lxv"
      },
      "outputs": [],
      "source": [
        "from sklearn.model_selection import train_test_split\n",
        "from sklearn.metrics import mean_absolute_error\n",
        "import matplotlib.pyplot as plt\n",
        "from datetime import datetime\n",
        "from fbprophet import Prophet\n",
        "import pandas as pd\n",
        "import numpy as np\n",
        "import requests\n",
        "import csv"
      ]
    },
    {
      "cell_type": "markdown",
      "source": [
        "**Obtención de los datos**\n",
        "\n",
        "Los datos son descargados realizando un GET request con la librería requests.\n",
        "\n",
        "Dado que el CSV usa ; en vez de , con csv.reader se construye el documento para crear el DataFrame. "
      ],
      "metadata": {
        "id": "7IycHI8n4lMg"
      }
    },
    {
      "cell_type": "code",
      "source": [
        "data_url = \"https://sinca.mma.gob.cl/cgi-bin/APUB-MMA/apub.tsindico2.cgi?outtype=xcl&macro=./RVII/709/Cal/PM25//PM25.horario.horario.ic&from=120707&to=211130&path=/usr/airviro/data/CONAMA/&lang=esp&rsrc=&macropath=\"\n",
        "data = requests.get(data_url)\n",
        "lines = data.text.splitlines()\n",
        "reader = csv.reader(lines, delimiter=';')\n",
        "df = pd.DataFrame(reader, index=None)"
      ],
      "metadata": {
        "id": "5G0i7NnY7QWg"
      },
      "execution_count": 2,
      "outputs": []
    },
    {
      "cell_type": "markdown",
      "source": [
        "Los datos incluyen celdas vacías (con whitespaces). Con df.replace se reemplazan las celdas por NaN"
      ],
      "metadata": {
        "id": "hNNzRlVm7VIz"
      }
    },
    {
      "cell_type": "code",
      "source": [
        "df.replace(r'^\\s*$', np.nan, regex=True, inplace=True)"
      ],
      "metadata": {
        "id": "4-EHQL0FBbob"
      },
      "execution_count": 3,
      "outputs": []
    },
    {
      "cell_type": "code",
      "source": [
        "df.info()"
      ],
      "metadata": {
        "colab": {
          "base_uri": "https://localhost:8080/"
        },
        "id": "Miqv1gr4D2Pg",
        "outputId": "710ee7db-396b-4d1f-c99f-9a2346e03e19"
      },
      "execution_count": 4,
      "outputs": [
        {
          "output_type": "stream",
          "name": "stdout",
          "text": [
            "<class 'pandas.core.frame.DataFrame'>\n",
            "RangeIndex: 82416 entries, 0 to 82415\n",
            "Data columns (total 6 columns):\n",
            " #   Column  Non-Null Count  Dtype  \n",
            "---  ------  --------------  -----  \n",
            " 0   0       82416 non-null  object \n",
            " 1   1       82416 non-null  object \n",
            " 2   2       57744 non-null  object \n",
            " 3   3       16485 non-null  object \n",
            " 4   4       2744 non-null   object \n",
            " 5   5       0 non-null      float64\n",
            "dtypes: float64(1), object(5)\n",
            "memory usage: 3.8+ MB\n"
          ]
        }
      ]
    },
    {
      "cell_type": "markdown",
      "source": [
        "**Manejo de datos faltantes**\n",
        "\n",
        "df.info() muestra que hay columnas con datos faltantes.\n",
        "\n",
        "La 5ta columna no tiene datos, por lo que debe ser eliminada."
      ],
      "metadata": {
        "id": "OXb_Xr8P9LEt"
      }
    },
    {
      "cell_type": "code",
      "source": [
        "#Se elimina la quinta columna dado que no tiene datos\n",
        "df = df[[0,1,2,3,4]].copy()\n",
        "df.info()"
      ],
      "metadata": {
        "colab": {
          "base_uri": "https://localhost:8080/"
        },
        "id": "1hvifdXbEAMj",
        "outputId": "8ce1ce0f-68bc-4871-e81e-a0591ef33007"
      },
      "execution_count": 5,
      "outputs": [
        {
          "output_type": "stream",
          "name": "stdout",
          "text": [
            "<class 'pandas.core.frame.DataFrame'>\n",
            "RangeIndex: 82416 entries, 0 to 82415\n",
            "Data columns (total 5 columns):\n",
            " #   Column  Non-Null Count  Dtype \n",
            "---  ------  --------------  ----- \n",
            " 0   0       82416 non-null  object\n",
            " 1   1       82416 non-null  object\n",
            " 2   2       57744 non-null  object\n",
            " 3   3       16485 non-null  object\n",
            " 4   4       2744 non-null   object\n",
            "dtypes: object(5)\n",
            "memory usage: 3.1+ MB\n"
          ]
        }
      ]
    },
    {
      "cell_type": "markdown",
      "source": [
        "Al almacenar los datos en el DataFrame el header fue reconocido como fila por tanto hay que eliminar la primera fila para no causar problemas con los parseos"
      ],
      "metadata": {
        "id": "6kyaEp8L919x"
      }
    },
    {
      "cell_type": "code",
      "source": [
        "df = df.iloc[1: , :]\n",
        "df"
      ],
      "metadata": {
        "colab": {
          "base_uri": "https://localhost:8080/",
          "height": 419
        },
        "id": "dKf4Pm6YEQEy",
        "outputId": "68d3cde4-2995-4759-9ed3-b645afd5ef00"
      },
      "execution_count": 6,
      "outputs": [
        {
          "output_type": "execute_result",
          "data": {
            "text/html": [
              "\n",
              "  <div id=\"df-c968c582-12c3-465a-b5b8-10cf2bdf9351\">\n",
              "    <div class=\"colab-df-container\">\n",
              "      <div>\n",
              "<style scoped>\n",
              "    .dataframe tbody tr th:only-of-type {\n",
              "        vertical-align: middle;\n",
              "    }\n",
              "\n",
              "    .dataframe tbody tr th {\n",
              "        vertical-align: top;\n",
              "    }\n",
              "\n",
              "    .dataframe thead th {\n",
              "        text-align: right;\n",
              "    }\n",
              "</style>\n",
              "<table border=\"1\" class=\"dataframe\">\n",
              "  <thead>\n",
              "    <tr style=\"text-align: right;\">\n",
              "      <th></th>\n",
              "      <th>0</th>\n",
              "      <th>1</th>\n",
              "      <th>2</th>\n",
              "      <th>3</th>\n",
              "      <th>4</th>\n",
              "    </tr>\n",
              "  </thead>\n",
              "  <tbody>\n",
              "    <tr>\n",
              "      <th>1</th>\n",
              "      <td>120707</td>\n",
              "      <td>0100</td>\n",
              "      <td>NaN</td>\n",
              "      <td>NaN</td>\n",
              "      <td>NaN</td>\n",
              "    </tr>\n",
              "    <tr>\n",
              "      <th>2</th>\n",
              "      <td>120707</td>\n",
              "      <td>0200</td>\n",
              "      <td>NaN</td>\n",
              "      <td>NaN</td>\n",
              "      <td>NaN</td>\n",
              "    </tr>\n",
              "    <tr>\n",
              "      <th>3</th>\n",
              "      <td>120707</td>\n",
              "      <td>0300</td>\n",
              "      <td>NaN</td>\n",
              "      <td>NaN</td>\n",
              "      <td>NaN</td>\n",
              "    </tr>\n",
              "    <tr>\n",
              "      <th>4</th>\n",
              "      <td>120707</td>\n",
              "      <td>0400</td>\n",
              "      <td>NaN</td>\n",
              "      <td>NaN</td>\n",
              "      <td>NaN</td>\n",
              "    </tr>\n",
              "    <tr>\n",
              "      <th>5</th>\n",
              "      <td>120707</td>\n",
              "      <td>0500</td>\n",
              "      <td>NaN</td>\n",
              "      <td>NaN</td>\n",
              "      <td>NaN</td>\n",
              "    </tr>\n",
              "    <tr>\n",
              "      <th>...</th>\n",
              "      <td>...</td>\n",
              "      <td>...</td>\n",
              "      <td>...</td>\n",
              "      <td>...</td>\n",
              "      <td>...</td>\n",
              "    </tr>\n",
              "    <tr>\n",
              "      <th>82411</th>\n",
              "      <td>211130</td>\n",
              "      <td>1900</td>\n",
              "      <td>NaN</td>\n",
              "      <td>3</td>\n",
              "      <td>NaN</td>\n",
              "    </tr>\n",
              "    <tr>\n",
              "      <th>82412</th>\n",
              "      <td>211130</td>\n",
              "      <td>2000</td>\n",
              "      <td>NaN</td>\n",
              "      <td>7</td>\n",
              "      <td>NaN</td>\n",
              "    </tr>\n",
              "    <tr>\n",
              "      <th>82413</th>\n",
              "      <td>211130</td>\n",
              "      <td>2100</td>\n",
              "      <td>NaN</td>\n",
              "      <td>7</td>\n",
              "      <td>NaN</td>\n",
              "    </tr>\n",
              "    <tr>\n",
              "      <th>82414</th>\n",
              "      <td>211130</td>\n",
              "      <td>2200</td>\n",
              "      <td>NaN</td>\n",
              "      <td>11</td>\n",
              "      <td>NaN</td>\n",
              "    </tr>\n",
              "    <tr>\n",
              "      <th>82415</th>\n",
              "      <td>211130</td>\n",
              "      <td>2300</td>\n",
              "      <td>NaN</td>\n",
              "      <td>7</td>\n",
              "      <td>NaN</td>\n",
              "    </tr>\n",
              "  </tbody>\n",
              "</table>\n",
              "<p>82415 rows × 5 columns</p>\n",
              "</div>\n",
              "      <button class=\"colab-df-convert\" onclick=\"convertToInteractive('df-c968c582-12c3-465a-b5b8-10cf2bdf9351')\"\n",
              "              title=\"Convert this dataframe to an interactive table.\"\n",
              "              style=\"display:none;\">\n",
              "        \n",
              "  <svg xmlns=\"http://www.w3.org/2000/svg\" height=\"24px\"viewBox=\"0 0 24 24\"\n",
              "       width=\"24px\">\n",
              "    <path d=\"M0 0h24v24H0V0z\" fill=\"none\"/>\n",
              "    <path d=\"M18.56 5.44l.94 2.06.94-2.06 2.06-.94-2.06-.94-.94-2.06-.94 2.06-2.06.94zm-11 1L8.5 8.5l.94-2.06 2.06-.94-2.06-.94L8.5 2.5l-.94 2.06-2.06.94zm10 10l.94 2.06.94-2.06 2.06-.94-2.06-.94-.94-2.06-.94 2.06-2.06.94z\"/><path d=\"M17.41 7.96l-1.37-1.37c-.4-.4-.92-.59-1.43-.59-.52 0-1.04.2-1.43.59L10.3 9.45l-7.72 7.72c-.78.78-.78 2.05 0 2.83L4 21.41c.39.39.9.59 1.41.59.51 0 1.02-.2 1.41-.59l7.78-7.78 2.81-2.81c.8-.78.8-2.07 0-2.86zM5.41 20L4 18.59l7.72-7.72 1.47 1.35L5.41 20z\"/>\n",
              "  </svg>\n",
              "      </button>\n",
              "      \n",
              "  <style>\n",
              "    .colab-df-container {\n",
              "      display:flex;\n",
              "      flex-wrap:wrap;\n",
              "      gap: 12px;\n",
              "    }\n",
              "\n",
              "    .colab-df-convert {\n",
              "      background-color: #E8F0FE;\n",
              "      border: none;\n",
              "      border-radius: 50%;\n",
              "      cursor: pointer;\n",
              "      display: none;\n",
              "      fill: #1967D2;\n",
              "      height: 32px;\n",
              "      padding: 0 0 0 0;\n",
              "      width: 32px;\n",
              "    }\n",
              "\n",
              "    .colab-df-convert:hover {\n",
              "      background-color: #E2EBFA;\n",
              "      box-shadow: 0px 1px 2px rgba(60, 64, 67, 0.3), 0px 1px 3px 1px rgba(60, 64, 67, 0.15);\n",
              "      fill: #174EA6;\n",
              "    }\n",
              "\n",
              "    [theme=dark] .colab-df-convert {\n",
              "      background-color: #3B4455;\n",
              "      fill: #D2E3FC;\n",
              "    }\n",
              "\n",
              "    [theme=dark] .colab-df-convert:hover {\n",
              "      background-color: #434B5C;\n",
              "      box-shadow: 0px 1px 3px 1px rgba(0, 0, 0, 0.15);\n",
              "      filter: drop-shadow(0px 1px 2px rgba(0, 0, 0, 0.3));\n",
              "      fill: #FFFFFF;\n",
              "    }\n",
              "  </style>\n",
              "\n",
              "      <script>\n",
              "        const buttonEl =\n",
              "          document.querySelector('#df-c968c582-12c3-465a-b5b8-10cf2bdf9351 button.colab-df-convert');\n",
              "        buttonEl.style.display =\n",
              "          google.colab.kernel.accessAllowed ? 'block' : 'none';\n",
              "\n",
              "        async function convertToInteractive(key) {\n",
              "          const element = document.querySelector('#df-c968c582-12c3-465a-b5b8-10cf2bdf9351');\n",
              "          const dataTable =\n",
              "            await google.colab.kernel.invokeFunction('convertToInteractive',\n",
              "                                                     [key], {});\n",
              "          if (!dataTable) return;\n",
              "\n",
              "          const docLinkHtml = 'Like what you see? Visit the ' +\n",
              "            '<a target=\"_blank\" href=https://colab.research.google.com/notebooks/data_table.ipynb>data table notebook</a>'\n",
              "            + ' to learn more about interactive tables.';\n",
              "          element.innerHTML = '';\n",
              "          dataTable['output_type'] = 'display_data';\n",
              "          await google.colab.output.renderOutput(dataTable, element);\n",
              "          const docLink = document.createElement('div');\n",
              "          docLink.innerHTML = docLinkHtml;\n",
              "          element.appendChild(docLink);\n",
              "        }\n",
              "      </script>\n",
              "    </div>\n",
              "  </div>\n",
              "  "
            ],
            "text/plain": [
              "            0     1    2    3    4\n",
              "1      120707  0100  NaN  NaN  NaN\n",
              "2      120707  0200  NaN  NaN  NaN\n",
              "3      120707  0300  NaN  NaN  NaN\n",
              "4      120707  0400  NaN  NaN  NaN\n",
              "5      120707  0500  NaN  NaN  NaN\n",
              "...       ...   ...  ...  ...  ...\n",
              "82411  211130  1900  NaN    3  NaN\n",
              "82412  211130  2000  NaN    7  NaN\n",
              "82413  211130  2100  NaN    7  NaN\n",
              "82414  211130  2200  NaN   11  NaN\n",
              "82415  211130  2300  NaN    7  NaN\n",
              "\n",
              "[82415 rows x 5 columns]"
            ]
          },
          "metadata": {},
          "execution_count": 6
        }
      ]
    },
    {
      "cell_type": "markdown",
      "source": [
        "Los datos utilizan la notación \",\" para puntos flotantes. Pero to_numeric pide la notación \".\" para realizar el casteo de string a punto flotante.\n",
        "\n",
        "Con str.replace pasamos de \",\" a \".\" y transformamos los string a puntos flotantes."
      ],
      "metadata": {
        "id": "ZyQZGJB2BCBZ"
      }
    },
    {
      "cell_type": "code",
      "source": [
        "df[2]=df[2].str.replace(',','.')\n",
        "df[3]=df[3].str.replace(',','.')\n",
        "df[4]=df[4].str.replace(',','.')\n",
        "\n",
        "df[2] = pd.to_numeric(df[2])\n",
        "df[3] = pd.to_numeric(df[3])\n",
        "df[4] = pd.to_numeric(df[4])\n",
        "\n",
        "df.replace(np.nan, 0, regex=True, inplace=True)"
      ],
      "metadata": {
        "id": "K5YgRFuoOIm6"
      },
      "execution_count": 7,
      "outputs": []
    },
    {
      "cell_type": "markdown",
      "source": [
        "**Imputación de datos**\n",
        "\n",
        "Los registros de contaminación se separan en tres tipos, validados, preliminares y no validados. \n",
        "\n",
        "Con el propósito de considerar el peor caso podemos tomar todos los registros y actuar sobre ellos como si fuesen todos validados. \n",
        "\n",
        "En el peor de los casos los registros no validados y preliminares no pasen a validados pero eso sería favorable para nuestra predicción pues significaría una disminución en la contaminación predicha y no un aumento por omisión.\n",
        "\n",
        "***Etiquetado de columnas***\n",
        "\n",
        "*Las columnas han sido etiquetadas acorde a lo declarado en la documentación de Prophet https://facebook.github.io/prophet/ para que funcione correctamente el predictor.* "
      ],
      "metadata": {
        "id": "wHqyd8SeBtY6"
      }
    },
    {
      "cell_type": "code",
      "source": [
        "trimmed_df = pd.DataFrame()\n",
        "trimmed_df[0] = df[0] + df[1]\n",
        "trimmed_df[1] = df[2] + df[3] + df[4]\n",
        "trimmed_df.columns = ['ds','y']"
      ],
      "metadata": {
        "id": "067mQuQGK8CM"
      },
      "execution_count": 8,
      "outputs": []
    },
    {
      "cell_type": "code",
      "source": [
        "trimmed_df.replace(0, np.nan, regex=True, inplace=True)\n",
        "trimmed_df.info()"
      ],
      "metadata": {
        "id": "RM7Ej4UVOWbF",
        "colab": {
          "base_uri": "https://localhost:8080/"
        },
        "outputId": "5d193638-d3dc-4561-97fe-0e1adbb8f8dd"
      },
      "execution_count": 9,
      "outputs": [
        {
          "output_type": "stream",
          "name": "stdout",
          "text": [
            "<class 'pandas.core.frame.DataFrame'>\n",
            "RangeIndex: 82415 entries, 1 to 82415\n",
            "Data columns (total 2 columns):\n",
            " #   Column  Non-Null Count  Dtype  \n",
            "---  ------  --------------  -----  \n",
            " 0   ds      82415 non-null  object \n",
            " 1   y       76965 non-null  float64\n",
            "dtypes: float64(1), object(1)\n",
            "memory usage: 1.3+ MB\n"
          ]
        }
      ]
    },
    {
      "cell_type": "markdown",
      "source": [
        "Dado que existen días en los que no hubo registros estos han sido excluidos del DataFrame para no generar sesgos en el predictor."
      ],
      "metadata": {
        "id": "3Lj15wk5EDK5"
      }
    },
    {
      "cell_type": "code",
      "source": [
        "trimmed_df.dropna(inplace=True)\n",
        "trimmed_df.info()"
      ],
      "metadata": {
        "id": "lYxnQNbySDBb",
        "colab": {
          "base_uri": "https://localhost:8080/"
        },
        "outputId": "162851bb-c1bc-4f23-a589-89dcebd0bd72"
      },
      "execution_count": 10,
      "outputs": [
        {
          "output_type": "stream",
          "name": "stdout",
          "text": [
            "<class 'pandas.core.frame.DataFrame'>\n",
            "Int64Index: 76965 entries, 16 to 82415\n",
            "Data columns (total 2 columns):\n",
            " #   Column  Non-Null Count  Dtype  \n",
            "---  ------  --------------  -----  \n",
            " 0   ds      76965 non-null  object \n",
            " 1   y       76965 non-null  float64\n",
            "dtypes: float64(1), object(1)\n",
            "memory usage: 1.8+ MB\n"
          ]
        }
      ]
    },
    {
      "cell_type": "markdown",
      "source": [
        "**Formateo de las fechas**\n",
        "\n",
        "Los strings que contienen fechas son casteados a la clase DateTime utilizando la expresión regular \"%y%m%d%H%M\" y el método de Pandas to_datetime."
      ],
      "metadata": {
        "id": "n4pJd1xbEbT8"
      }
    },
    {
      "cell_type": "code",
      "source": [
        "trimmed_df[\"ds\"] = pd.to_datetime(trimmed_df[\"ds\"], format='%y%m%d%H%M', errors='ignore')\n",
        "trimmed_df"
      ],
      "metadata": {
        "colab": {
          "base_uri": "https://localhost:8080/",
          "height": 419
        },
        "id": "zmma9sA_Lfa4",
        "outputId": "60f0c579-4454-4a4c-9edb-0319456dc3fd"
      },
      "execution_count": 11,
      "outputs": [
        {
          "output_type": "execute_result",
          "data": {
            "text/html": [
              "\n",
              "  <div id=\"df-4b1422db-de84-473e-8667-acd6d91d68fa\">\n",
              "    <div class=\"colab-df-container\">\n",
              "      <div>\n",
              "<style scoped>\n",
              "    .dataframe tbody tr th:only-of-type {\n",
              "        vertical-align: middle;\n",
              "    }\n",
              "\n",
              "    .dataframe tbody tr th {\n",
              "        vertical-align: top;\n",
              "    }\n",
              "\n",
              "    .dataframe thead th {\n",
              "        text-align: right;\n",
              "    }\n",
              "</style>\n",
              "<table border=\"1\" class=\"dataframe\">\n",
              "  <thead>\n",
              "    <tr style=\"text-align: right;\">\n",
              "      <th></th>\n",
              "      <th>ds</th>\n",
              "      <th>y</th>\n",
              "    </tr>\n",
              "  </thead>\n",
              "  <tbody>\n",
              "    <tr>\n",
              "      <th>16</th>\n",
              "      <td>2012-07-07 16:00:00</td>\n",
              "      <td>33.7100</td>\n",
              "    </tr>\n",
              "    <tr>\n",
              "      <th>17</th>\n",
              "      <td>2012-07-07 17:00:00</td>\n",
              "      <td>53.9500</td>\n",
              "    </tr>\n",
              "    <tr>\n",
              "      <th>18</th>\n",
              "      <td>2012-07-07 18:00:00</td>\n",
              "      <td>96.3999</td>\n",
              "    </tr>\n",
              "    <tr>\n",
              "      <th>19</th>\n",
              "      <td>2012-07-07 19:00:00</td>\n",
              "      <td>67.4298</td>\n",
              "    </tr>\n",
              "    <tr>\n",
              "      <th>20</th>\n",
              "      <td>2012-07-07 20:00:00</td>\n",
              "      <td>163.2000</td>\n",
              "    </tr>\n",
              "    <tr>\n",
              "      <th>...</th>\n",
              "      <td>...</td>\n",
              "      <td>...</td>\n",
              "    </tr>\n",
              "    <tr>\n",
              "      <th>82411</th>\n",
              "      <td>2021-11-30 19:00:00</td>\n",
              "      <td>3.0000</td>\n",
              "    </tr>\n",
              "    <tr>\n",
              "      <th>82412</th>\n",
              "      <td>2021-11-30 20:00:00</td>\n",
              "      <td>7.0000</td>\n",
              "    </tr>\n",
              "    <tr>\n",
              "      <th>82413</th>\n",
              "      <td>2021-11-30 21:00:00</td>\n",
              "      <td>7.0000</td>\n",
              "    </tr>\n",
              "    <tr>\n",
              "      <th>82414</th>\n",
              "      <td>2021-11-30 22:00:00</td>\n",
              "      <td>11.0000</td>\n",
              "    </tr>\n",
              "    <tr>\n",
              "      <th>82415</th>\n",
              "      <td>2021-11-30 23:00:00</td>\n",
              "      <td>7.0000</td>\n",
              "    </tr>\n",
              "  </tbody>\n",
              "</table>\n",
              "<p>76965 rows × 2 columns</p>\n",
              "</div>\n",
              "      <button class=\"colab-df-convert\" onclick=\"convertToInteractive('df-4b1422db-de84-473e-8667-acd6d91d68fa')\"\n",
              "              title=\"Convert this dataframe to an interactive table.\"\n",
              "              style=\"display:none;\">\n",
              "        \n",
              "  <svg xmlns=\"http://www.w3.org/2000/svg\" height=\"24px\"viewBox=\"0 0 24 24\"\n",
              "       width=\"24px\">\n",
              "    <path d=\"M0 0h24v24H0V0z\" fill=\"none\"/>\n",
              "    <path d=\"M18.56 5.44l.94 2.06.94-2.06 2.06-.94-2.06-.94-.94-2.06-.94 2.06-2.06.94zm-11 1L8.5 8.5l.94-2.06 2.06-.94-2.06-.94L8.5 2.5l-.94 2.06-2.06.94zm10 10l.94 2.06.94-2.06 2.06-.94-2.06-.94-.94-2.06-.94 2.06-2.06.94z\"/><path d=\"M17.41 7.96l-1.37-1.37c-.4-.4-.92-.59-1.43-.59-.52 0-1.04.2-1.43.59L10.3 9.45l-7.72 7.72c-.78.78-.78 2.05 0 2.83L4 21.41c.39.39.9.59 1.41.59.51 0 1.02-.2 1.41-.59l7.78-7.78 2.81-2.81c.8-.78.8-2.07 0-2.86zM5.41 20L4 18.59l7.72-7.72 1.47 1.35L5.41 20z\"/>\n",
              "  </svg>\n",
              "      </button>\n",
              "      \n",
              "  <style>\n",
              "    .colab-df-container {\n",
              "      display:flex;\n",
              "      flex-wrap:wrap;\n",
              "      gap: 12px;\n",
              "    }\n",
              "\n",
              "    .colab-df-convert {\n",
              "      background-color: #E8F0FE;\n",
              "      border: none;\n",
              "      border-radius: 50%;\n",
              "      cursor: pointer;\n",
              "      display: none;\n",
              "      fill: #1967D2;\n",
              "      height: 32px;\n",
              "      padding: 0 0 0 0;\n",
              "      width: 32px;\n",
              "    }\n",
              "\n",
              "    .colab-df-convert:hover {\n",
              "      background-color: #E2EBFA;\n",
              "      box-shadow: 0px 1px 2px rgba(60, 64, 67, 0.3), 0px 1px 3px 1px rgba(60, 64, 67, 0.15);\n",
              "      fill: #174EA6;\n",
              "    }\n",
              "\n",
              "    [theme=dark] .colab-df-convert {\n",
              "      background-color: #3B4455;\n",
              "      fill: #D2E3FC;\n",
              "    }\n",
              "\n",
              "    [theme=dark] .colab-df-convert:hover {\n",
              "      background-color: #434B5C;\n",
              "      box-shadow: 0px 1px 3px 1px rgba(0, 0, 0, 0.15);\n",
              "      filter: drop-shadow(0px 1px 2px rgba(0, 0, 0, 0.3));\n",
              "      fill: #FFFFFF;\n",
              "    }\n",
              "  </style>\n",
              "\n",
              "      <script>\n",
              "        const buttonEl =\n",
              "          document.querySelector('#df-4b1422db-de84-473e-8667-acd6d91d68fa button.colab-df-convert');\n",
              "        buttonEl.style.display =\n",
              "          google.colab.kernel.accessAllowed ? 'block' : 'none';\n",
              "\n",
              "        async function convertToInteractive(key) {\n",
              "          const element = document.querySelector('#df-4b1422db-de84-473e-8667-acd6d91d68fa');\n",
              "          const dataTable =\n",
              "            await google.colab.kernel.invokeFunction('convertToInteractive',\n",
              "                                                     [key], {});\n",
              "          if (!dataTable) return;\n",
              "\n",
              "          const docLinkHtml = 'Like what you see? Visit the ' +\n",
              "            '<a target=\"_blank\" href=https://colab.research.google.com/notebooks/data_table.ipynb>data table notebook</a>'\n",
              "            + ' to learn more about interactive tables.';\n",
              "          element.innerHTML = '';\n",
              "          dataTable['output_type'] = 'display_data';\n",
              "          await google.colab.output.renderOutput(dataTable, element);\n",
              "          const docLink = document.createElement('div');\n",
              "          docLink.innerHTML = docLinkHtml;\n",
              "          element.appendChild(docLink);\n",
              "        }\n",
              "      </script>\n",
              "    </div>\n",
              "  </div>\n",
              "  "
            ],
            "text/plain": [
              "                       ds         y\n",
              "16    2012-07-07 16:00:00   33.7100\n",
              "17    2012-07-07 17:00:00   53.9500\n",
              "18    2012-07-07 18:00:00   96.3999\n",
              "19    2012-07-07 19:00:00   67.4298\n",
              "20    2012-07-07 20:00:00  163.2000\n",
              "...                   ...       ...\n",
              "82411 2021-11-30 19:00:00    3.0000\n",
              "82412 2021-11-30 20:00:00    7.0000\n",
              "82413 2021-11-30 21:00:00    7.0000\n",
              "82414 2021-11-30 22:00:00   11.0000\n",
              "82415 2021-11-30 23:00:00    7.0000\n",
              "\n",
              "[76965 rows x 2 columns]"
            ]
          },
          "metadata": {},
          "execution_count": 11
        }
      ]
    },
    {
      "cell_type": "markdown",
      "source": [
        "**Serie de tiempo**"
      ],
      "metadata": {
        "id": "RI7FMjCFE455"
      }
    },
    {
      "cell_type": "code",
      "source": [
        "# plotting the line 2 points\n",
        "plt.plot(trimmed_df[\"ds\"], trimmed_df[\"y\"])\n",
        " \n",
        "# naming the x axis\n",
        "plt.xlabel('Años')\n",
        "# naming the y axis\n",
        "plt.ylabel('Registros')\n",
        "\n",
        "# function to show the plot\n",
        "plt.show()"
      ],
      "metadata": {
        "colab": {
          "base_uri": "https://localhost:8080/",
          "height": 279
        },
        "id": "5s7ivaw3Q14n",
        "outputId": "af7ca693-fb5a-4314-f928-4477ced06835"
      },
      "execution_count": 23,
      "outputs": [
        {
          "output_type": "display_data",
          "data": {
            "image/png": "[encoded data removed]",
            "text/plain": [
              "<Figure size 432x288 with 1 Axes>"
            ]
          },
          "metadata": {
            "needs_background": "light"
          }
        }
      ]
    },
    {
      "cell_type": "markdown",
      "source": [
        "**Creación de los conjuntos Train y Test**\n",
        "\n",
        "Dado que utilizamos Prophet para predecir registros al futuro separamos el conjunto original usando el método train_test_split de SkLearn.\n",
        "\n",
        "Al separar es importante considerar un test size de 0.5 sin shuffle activo para contar con los datos ordenados cronológicamente.\n",
        "\n",
        "Activar estos parámetros nos permiten utilizar el conjunto test para evaluar los registros resultantes del Prophet."
      ],
      "metadata": {
        "id": "gVUIoz4bFhDN"
      }
    },
    {
      "cell_type": "code",
      "source": [
        "trimmed_df = trimmed_df.sort_values(\"ds\")\n",
        "train, test = train_test_split(trimmed_df, test_size=0.5, shuffle=False)"
      ],
      "metadata": {
        "id": "C9J6-Df7dAoJ"
      },
      "execution_count": 13,
      "outputs": []
    },
    {
      "cell_type": "code",
      "source": [
        "m = Prophet()\n",
        "m.fit(train)"
      ],
      "metadata": {
        "colab": {
          "base_uri": "https://localhost:8080/"
        },
        "id": "AvVyK5vwYr2v",
        "outputId": "198fbb25-1fa0-4d9d-b31a-5ae81a2f3321"
      },
      "execution_count": 14,
      "outputs": [
        {
          "output_type": "execute_result",
          "data": {
            "text/plain": [
              "<fbprophet.forecaster.Prophet at 0x7f9cb36dea50>"
            ]
          },
          "metadata": {},
          "execution_count": 14
        }
      ]
    },
    {
      "cell_type": "code",
      "source": [
        "future = m.make_future_dataframe(periods=1095)\n",
        "forecast = m.predict(future)"
      ],
      "metadata": {
        "id": "B8bTwxYRb6cG"
      },
      "execution_count": 15,
      "outputs": []
    },
    {
      "cell_type": "code",
      "source": [
        "m.plot(forecast)"
      ],
      "metadata": {
        "colab": {
          "base_uri": "https://localhost:8080/",
          "height": 865
        },
        "id": "-oW4Q2z7cSc8",
        "outputId": "b9907378-5856-44dd-b7b8-f9c8d1958c11"
      },
      "execution_count": 16,
      "outputs": [
        {
          "output_type": "execute_result",
          "data": {
            "image/png": "[encoded data removed]",
            "text/plain": [
              "<Figure size 720x432 with 1 Axes>"
            ]
          },
          "metadata": {},
          "execution_count": 16
        },
        {
          "output_type": "display_data",
          "data": {
            "image/png": "[encoded data removed]",
            "text/plain": [
              "<Figure size 720x432 with 1 Axes>"
            ]
          },
          "metadata": {}
        }
      ]
    },
    {
      "cell_type": "markdown",
      "source": [
        "**Análisis de los resultados**\n",
        "\n",
        "Al evaluar los resultados obtenidos mediante el error absoluto medio llegamos a un valor no tan favorable."
      ],
      "metadata": {
        "id": "2218N40vJHm9"
      }
    },
    {
      "cell_type": "code",
      "source": [
        "y_true = test['y'].values\n",
        "y_pred = forecast['yhat'][-38483:].values\n",
        "mae = mean_absolute_error(y_true, y_pred)\n",
        "print('MAE: %.3f' % mae)"
      ],
      "metadata": {
        "colab": {
          "base_uri": "https://localhost:8080/"
        },
        "id": "ezNo8TZzjNhg",
        "outputId": "19f0ba01-9653-44ca-e875-3d2087fb88a9"
      },
      "execution_count": 18,
      "outputs": [
        {
          "output_type": "stream",
          "name": "stdout",
          "text": [
            "MAE: 39.118\n"
          ]
        }
      ]
    },
    {
      "cell_type": "markdown",
      "source": [
        "Gráficamente el resultado no mejora, sin embargo demuestra un patrón interesante que en algunos puntos se asemeja a los valores apartados para testing."
      ],
      "metadata": {
        "id": "ewSBBlOAJ2Qk"
      }
    },
    {
      "cell_type": "code",
      "source": [
        "# plot predicted vs actual\n",
        "plt.plot(y_true, label='Actual')\n",
        "plt.plot(y_pred, label='Predicted')\n",
        "plt.legend()\n",
        "plt.show()"
      ],
      "metadata": {
        "colab": {
          "base_uri": "https://localhost:8080/",
          "height": 265
        },
        "id": "ShWp8w9fkGn4",
        "outputId": "3c1d8581-ca6c-491f-c624-9780ac816f06"
      },
      "execution_count": 19,
      "outputs": [
        {
          "output_type": "display_data",
          "data": {
            "image/png": "[encoded data removed]",
            "text/plain": [
              "<Figure size 432x288 with 1 Axes>"
            ]
          },
          "metadata": {
            "needs_background": "light"
          }
        }
      ]
    }
  ]
}